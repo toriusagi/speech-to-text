{
 "cells": [
  {
   "cell_type": "code",
   "execution_count": 15,
   "metadata": {},
   "outputs": [
    {
     "name": "stdout",
     "output_type": "stream",
     "text": [
      "Requirement already up-to-date: google-cloud-speech in c:\\users\\xxx\\anaconda3\\lib\\site-packages (2.10.0)\n",
      "Requirement already satisfied, skipping upgrade: libcst>=0.2.5 in c:\\users\\xxx\\anaconda3\\lib\\site-packages (from google-cloud-speech) (0.3.21)\n",
      "Requirement already satisfied, skipping upgrade: packaging>=14.3 in c:\\users\\xxx\\anaconda3\\lib\\site-packages (from google-cloud-speech) (20.4)\n",
      "Requirement already satisfied, skipping upgrade: google-api-core[grpc]<3.0.0dev,>=1.26.0 in c:\\users\\xxx\\anaconda3\\lib\\site-packages (from google-cloud-speech) (2.1.0)\n",
      "Requirement already satisfied, skipping upgrade: proto-plus>=1.4.0 in c:\\users\\xxx\\anaconda3\\lib\\site-packages (from google-cloud-speech) (1.19.2)\n",
      "Requirement already satisfied, skipping upgrade: typing-inspect>=0.4.0 in c:\\users\\xxx\\anaconda3\\lib\\site-packages (from libcst>=0.2.5->google-cloud-speech) (0.7.1)\n",
      "Requirement already satisfied, skipping upgrade: pyyaml>=5.2 in c:\\users\\xxx\\anaconda3\\lib\\site-packages (from libcst>=0.2.5->google-cloud-speech) (5.3.1)\n",
      "Requirement already satisfied, skipping upgrade: typing-extensions>=3.7.4.2 in c:\\users\\xxx\\anaconda3\\lib\\site-packages (from libcst>=0.2.5->google-cloud-speech) (3.7.4.3)\n",
      "Requirement already satisfied, skipping upgrade: pyparsing>=2.0.2 in c:\\users\\xxx\\anaconda3\\lib\\site-packages (from packaging>=14.3->google-cloud-speech) (2.4.7)\n",
      "Requirement already satisfied, skipping upgrade: six in c:\\users\\xxx\\anaconda3\\lib\\site-packages (from packaging>=14.3->google-cloud-speech) (1.15.0)\n",
      "Requirement already satisfied, skipping upgrade: google-auth<3.0dev,>=1.25.0 in c:\\users\\xxx\\anaconda3\\lib\\site-packages (from google-api-core[grpc]<3.0.0dev,>=1.26.0->google-cloud-speech) (2.0.2)\n",
      "Requirement already satisfied, skipping upgrade: requests<3.0.0dev,>=2.18.0 in c:\\users\\xxx\\anaconda3\\lib\\site-packages (from google-api-core[grpc]<3.0.0dev,>=1.26.0->google-cloud-speech) (2.24.0)\n",
      "Requirement already satisfied, skipping upgrade: googleapis-common-protos<2.0dev,>=1.6.0 in c:\\users\\xxx\\anaconda3\\lib\\site-packages (from google-api-core[grpc]<3.0.0dev,>=1.26.0->google-cloud-speech) (1.53.0)\n",
      "Requirement already satisfied, skipping upgrade: protobuf>=3.12.0 in c:\\users\\xxx\\anaconda3\\lib\\site-packages (from google-api-core[grpc]<3.0.0dev,>=1.26.0->google-cloud-speech) (3.18.1)\n",
      "Requirement already satisfied, skipping upgrade: setuptools>=40.3.0 in c:\\users\\xxx\\anaconda3\\lib\\site-packages (from google-api-core[grpc]<3.0.0dev,>=1.26.0->google-cloud-speech) (50.3.1.post20201107)\n",
      "Requirement already satisfied, skipping upgrade: grpcio<2.0dev,>=1.33.2; extra == \"grpc\" in c:\\users\\xxx\\anaconda3\\lib\\site-packages (from google-api-core[grpc]<3.0.0dev,>=1.26.0->google-cloud-speech) (1.41.0)\n",
      "Requirement already satisfied, skipping upgrade: mypy-extensions>=0.3.0 in c:\\users\\xxx\\anaconda3\\lib\\site-packages (from typing-inspect>=0.4.0->libcst>=0.2.5->google-cloud-speech) (0.4.3)\n",
      "Requirement already satisfied, skipping upgrade: rsa<5,>=3.1.4 in c:\\users\\xxx\\anaconda3\\lib\\site-packages (from google-auth<3.0dev,>=1.25.0->google-api-core[grpc]<3.0.0dev,>=1.26.0->google-cloud-speech) (4.7.2)\n",
      "Requirement already satisfied, skipping upgrade: pyasn1-modules>=0.2.1 in c:\\users\\xxx\\anaconda3\\lib\\site-packages (from google-auth<3.0dev,>=1.25.0->google-api-core[grpc]<3.0.0dev,>=1.26.0->google-cloud-speech) (0.2.8)\n",
      "Requirement already satisfied, skipping upgrade: cachetools<5.0,>=2.0.0 in c:\\users\\xxx\\anaconda3\\lib\\site-packages (from google-auth<3.0dev,>=1.25.0->google-api-core[grpc]<3.0.0dev,>=1.26.0->google-cloud-speech) (4.2.2)\n",
      "Requirement already satisfied, skipping upgrade: urllib3!=1.25.0,!=1.25.1,<1.26,>=1.21.1 in c:\\users\\xxx\\anaconda3\\lib\\site-packages (from requests<3.0.0dev,>=2.18.0->google-api-core[grpc]<3.0.0dev,>=1.26.0->google-cloud-speech) (1.25.11)\n",
      "Requirement already satisfied, skipping upgrade: idna<3,>=2.5 in c:\\users\\xxx\\anaconda3\\lib\\site-packages (from requests<3.0.0dev,>=2.18.0->google-api-core[grpc]<3.0.0dev,>=1.26.0->google-cloud-speech) (2.10)\n",
      "Requirement already satisfied, skipping upgrade: certifi>=2017.4.17 in c:\\users\\xxx\\anaconda3\\lib\\site-packages (from requests<3.0.0dev,>=2.18.0->google-api-core[grpc]<3.0.0dev,>=1.26.0->google-cloud-speech) (2020.6.20)\n",
      "Requirement already satisfied, skipping upgrade: chardet<4,>=3.0.2 in c:\\users\\xxx\\anaconda3\\lib\\site-packages (from requests<3.0.0dev,>=2.18.0->google-api-core[grpc]<3.0.0dev,>=1.26.0->google-cloud-speech) (3.0.4)\n",
      "Requirement already satisfied, skipping upgrade: pyasn1>=0.1.3 in c:\\users\\xxx\\anaconda3\\lib\\site-packages (from rsa<5,>=3.1.4->google-auth<3.0dev,>=1.25.0->google-api-core[grpc]<3.0.0dev,>=1.26.0->google-cloud-speech) (0.4.8)\n"
     ]
    }
   ],
   "source": [
    "!pip install --upgrade google-cloud-speech"
   ]
  },
  {
   "cell_type": "code",
   "execution_count": 16,
   "metadata": {},
   "outputs": [],
   "source": [
    "import os\n",
    "\n",
    "os.environ['GOOGLE_APPLICATION_CREDENTIALS'] = 'secret.json'"
   ]
  },
  {
   "cell_type": "code",
   "execution_count": 17,
   "metadata": {},
   "outputs": [],
   "source": [
    "# Imports the Google Cloud client library\n",
    "from google.cloud import speech\n",
    "import io"
   ]
  },
  {
   "cell_type": "code",
   "execution_count": 18,
   "metadata": {},
   "outputs": [],
   "source": [
    "# Instantiates a client\n",
    "client = speech.SpeechClient()"
   ]
  },
  {
   "cell_type": "code",
   "execution_count": 19,
   "metadata": {},
   "outputs": [],
   "source": [
    "speech_file = 'OSR_us_000_0010_8k.wav'\n",
    "\n",
    "with io.open(speech_file, 'rb') as f:\n",
    "    content = f.read()"
   ]
  },
  {
   "cell_type": "code",
   "execution_count": 20,
   "metadata": {},
   "outputs": [],
   "source": [
    "audio = speech.RecognitionAudio(content=content)\n",
    "\n",
    "config = speech.RecognitionConfig(\n",
    "    encoding=speech.RecognitionConfig.AudioEncoding.ENCODING_UNSPECIFIED,\n",
    "#     sample_rate_hertz=16000,\n",
    "    language_code = \"en-US\",\n",
    ")"
   ]
  },
  {
   "cell_type": "code",
   "execution_count": 21,
   "metadata": {},
   "outputs": [
    {
     "name": "stdout",
     "output_type": "stream",
     "text": [
      "認識結果: the Birch canoes slid on the smooth planks\n",
      "認識結果:  glue the sheet to the dark blue background\n",
      "認識結果:  it is easy to tell the death of a well\n",
      "認識結果:  these days a chicken leg is a verb dish\n",
      "認識結果:  rice is often served in round bowls\n",
      "認識結果:  the juice of lemons makes find punch\n",
      "認識結果:  the box was down beside the park truck\n",
      "認識結果:  the Hogs of food shop corn and garbage\n",
      "認識結果:  4 hours of study work Facebook\n",
      "認識結果:  a large size in stockings is hard to sell\n"
     ]
    }
   ],
   "source": [
    "# Detects speech in the audio file\n",
    "response = client.recognize(config=config, audio=audio)\n",
    "\n",
    "for result in response.results:\n",
    "    print(\"認識結果: {}\".format(result.alternatives[0].transcript))"
   ]
  },
  {
   "cell_type": "code",
   "execution_count": 27,
   "metadata": {},
   "outputs": [],
   "source": [
    "def transcribe_file(speech_file, lang='日本語'):\n",
    "    lang_code = {\n",
    "    '英語': 'en-US',\n",
    "    '日本語': 'ja-JP',\n",
    "    'スペイン語': 'es-ES'\n",
    "    }\n",
    "    client = speech.SpeechClient()\n",
    "\n",
    "    with io.open(speech_file, 'rb') as f:\n",
    "        content = f.read()\n",
    "\n",
    "    audio = speech.RecognitionAudio(content=content)\n",
    "    config = speech.RecognitionConfig(\n",
    "        encoding=speech.RecognitionConfig.AudioEncoding.ENCODING_UNSPECIFIED,\n",
    "        language_code=lang_code[lang]\n",
    "    )\n",
    "\n",
    "    response = client.recognize(config=config, audio=audio)\n",
    "\n",
    "    for result in response.results:\n",
    "        print(\"認識結果: {}\".format(result.alternatives[0].transcript))"
   ]
  },
  {
   "cell_type": "code",
   "execution_count": null,
   "metadata": {},
   "outputs": [],
   "source": [
    "transcribe_file('sample.wav')"
   ]
  },
  {
   "cell_type": "code",
   "execution_count": 1,
   "metadata": {},
   "outputs": [
    {
     "name": "stdout",
     "output_type": "stream",
     "text": [
      "Requirement already up-to-date: google-cloud-speech in c:\\users\\xxx\\anaconda3\\lib\\site-packages (2.10.0)\n",
      "Requirement already satisfied, skipping upgrade: libcst>=0.2.5 in c:\\users\\xxx\\anaconda3\\lib\\site-packages (from google-cloud-speech) (0.3.21)\n",
      "Requirement already satisfied, skipping upgrade: packaging>=14.3 in c:\\users\\xxx\\anaconda3\\lib\\site-packages (from google-cloud-speech) (20.4)\n",
      "Requirement already satisfied, skipping upgrade: proto-plus>=1.4.0 in c:\\users\\xxx\\anaconda3\\lib\\site-packages (from google-cloud-speech) (1.19.2)\n",
      "Requirement already satisfied, skipping upgrade: google-api-core[grpc]<3.0.0dev,>=1.26.0 in c:\\users\\xxx\\anaconda3\\lib\\site-packages (from google-cloud-speech) (2.1.0)\n",
      "Requirement already satisfied, skipping upgrade: pyyaml>=5.2 in c:\\users\\xxx\\anaconda3\\lib\\site-packages (from libcst>=0.2.5->google-cloud-speech) (5.3.1)\n",
      "Requirement already satisfied, skipping upgrade: typing-inspect>=0.4.0 in c:\\users\\xxx\\anaconda3\\lib\\site-packages (from libcst>=0.2.5->google-cloud-speech) (0.7.1)\n",
      "Requirement already satisfied, skipping upgrade: typing-extensions>=3.7.4.2 in c:\\users\\xxx\\anaconda3\\lib\\site-packages (from libcst>=0.2.5->google-cloud-speech) (3.7.4.3)\n",
      "Requirement already satisfied, skipping upgrade: pyparsing>=2.0.2 in c:\\users\\xxx\\anaconda3\\lib\\site-packages (from packaging>=14.3->google-cloud-speech) (2.4.7)\n",
      "Requirement already satisfied, skipping upgrade: six in c:\\users\\xxx\\anaconda3\\lib\\site-packages (from packaging>=14.3->google-cloud-speech) (1.15.0)\n",
      "Requirement already satisfied, skipping upgrade: protobuf>=3.12.0 in c:\\users\\xxx\\anaconda3\\lib\\site-packages (from proto-plus>=1.4.0->google-cloud-speech) (3.18.1)\n",
      "Requirement already satisfied, skipping upgrade: setuptools>=40.3.0 in c:\\users\\xxx\\anaconda3\\lib\\site-packages (from google-api-core[grpc]<3.0.0dev,>=1.26.0->google-cloud-speech) (50.3.1.post20201107)\n",
      "Requirement already satisfied, skipping upgrade: google-auth<3.0dev,>=1.25.0 in c:\\users\\xxx\\anaconda3\\lib\\site-packages (from google-api-core[grpc]<3.0.0dev,>=1.26.0->google-cloud-speech) (2.0.2)\n",
      "Requirement already satisfied, skipping upgrade: googleapis-common-protos<2.0dev,>=1.6.0 in c:\\users\\xxx\\anaconda3\\lib\\site-packages (from google-api-core[grpc]<3.0.0dev,>=1.26.0->google-cloud-speech) (1.53.0)\n",
      "Requirement already satisfied, skipping upgrade: requests<3.0.0dev,>=2.18.0 in c:\\users\\xxx\\anaconda3\\lib\\site-packages (from google-api-core[grpc]<3.0.0dev,>=1.26.0->google-cloud-speech) (2.24.0)\n",
      "Requirement already satisfied, skipping upgrade: grpcio<2.0dev,>=1.33.2; extra == \"grpc\" in c:\\users\\xxx\\anaconda3\\lib\\site-packages (from google-api-core[grpc]<3.0.0dev,>=1.26.0->google-cloud-speech) (1.41.0)\n",
      "Requirement already satisfied, skipping upgrade: mypy-extensions>=0.3.0 in c:\\users\\xxx\\anaconda3\\lib\\site-packages (from typing-inspect>=0.4.0->libcst>=0.2.5->google-cloud-speech) (0.4.3)\n",
      "Requirement already satisfied, skipping upgrade: cachetools<5.0,>=2.0.0 in c:\\users\\xxx\\anaconda3\\lib\\site-packages (from google-auth<3.0dev,>=1.25.0->google-api-core[grpc]<3.0.0dev,>=1.26.0->google-cloud-speech) (4.2.2)\n",
      "Requirement already satisfied, skipping upgrade: pyasn1-modules>=0.2.1 in c:\\users\\xxx\\anaconda3\\lib\\site-packages (from google-auth<3.0dev,>=1.25.0->google-api-core[grpc]<3.0.0dev,>=1.26.0->google-cloud-speech) (0.2.8)\n",
      "Requirement already satisfied, skipping upgrade: rsa<5,>=3.1.4 in c:\\users\\xxx\\anaconda3\\lib\\site-packages (from google-auth<3.0dev,>=1.25.0->google-api-core[grpc]<3.0.0dev,>=1.26.0->google-cloud-speech) (4.7.2)\n",
      "Requirement already satisfied, skipping upgrade: urllib3!=1.25.0,!=1.25.1,<1.26,>=1.21.1 in c:\\users\\xxx\\anaconda3\\lib\\site-packages (from requests<3.0.0dev,>=2.18.0->google-api-core[grpc]<3.0.0dev,>=1.26.0->google-cloud-speech) (1.25.11)\n",
      "Requirement already satisfied, skipping upgrade: chardet<4,>=3.0.2 in c:\\users\\xxx\\anaconda3\\lib\\site-packages (from requests<3.0.0dev,>=2.18.0->google-api-core[grpc]<3.0.0dev,>=1.26.0->google-cloud-speech) (3.0.4)\n",
      "Requirement already satisfied, skipping upgrade: certifi>=2017.4.17 in c:\\users\\xxx\\anaconda3\\lib\\site-packages (from requests<3.0.0dev,>=2.18.0->google-api-core[grpc]<3.0.0dev,>=1.26.0->google-cloud-speech) (2020.6.20)\n",
      "Requirement already satisfied, skipping upgrade: idna<3,>=2.5 in c:\\users\\xxx\\anaconda3\\lib\\site-packages (from requests<3.0.0dev,>=2.18.0->google-api-core[grpc]<3.0.0dev,>=1.26.0->google-cloud-speech) (2.10)\n",
      "Requirement already satisfied, skipping upgrade: pyasn1<0.5.0,>=0.4.6 in c:\\users\\xxx\\anaconda3\\lib\\site-packages (from pyasn1-modules>=0.2.1->google-auth<3.0dev,>=1.25.0->google-api-core[grpc]<3.0.0dev,>=1.26.0->google-cloud-speech) (0.4.8)\n",
      "Note: you may need to restart the kernel to use updated packages.\n"
     ]
    }
   ],
   "source": [
    "pip install --upgrade google-cloud-speech"
   ]
  },
  {
   "cell_type": "code",
   "execution_count": null,
   "metadata": {},
   "outputs": [],
   "source": []
  }
 ],
 "metadata": {
  "kernelspec": {
   "display_name": "Python 3",
   "language": "python",
   "name": "python3"
  },
  "language_info": {
   "codemirror_mode": {
    "name": "ipython",
    "version": 3
   },
   "file_extension": ".py",
   "mimetype": "text/x-python",
   "name": "python",
   "nbconvert_exporter": "python",
   "pygments_lexer": "ipython3",
   "version": "3.8.5"
  }
 },
 "nbformat": 4,
 "nbformat_minor": 4
}
